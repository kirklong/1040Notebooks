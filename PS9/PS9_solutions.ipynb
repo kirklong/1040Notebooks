{
 "cells": [
  {
   "cell_type": "markdown",
   "metadata": {},
   "source": [
    "# ASTR 1040 Problem Set 9\n",
    "\n",
    "**This is your last homework of the semester! Congrats on making it :)**\n",
    "\n",
    "The first cell (below) contains lots of helpful constants you may need to use throughout the semester. Make sure to run it each time before you start working! \n",
    "\n",
    "For reference, all of the `astropy` constants as well as examples can be found [here](https://docs.astropy.org/en/stable/constants/index.html). Likewise all of the units and their names / how to access them can be found [here](https://docs.astropy.org/en/stable/units/index.html). \n",
    "\n",
    "To create a variable with units you need to multiply by the corresponding unit class:\n",
    "\n",
    "```python\n",
    "d = 1 * units.au\n",
    "```\n",
    "\n",
    "You can then convert unitful quantities to other units by calling the `to` method and passing the desired end unit class: \n",
    "\n",
    "```python\n",
    "d_m = d.to(units.m)\n",
    "```\n",
    "\n",
    "If you have a ratio of quanities where all the units should cancel out, you can obtain the dimensionles number using the `dimesionless_unscaled` method. For example writing:\n",
    "```python\n",
    "d_m/d\n",
    "``` \n",
    "yields $1.4959787\\times 10^{11} \\rm{\\frac{m}{AU}}$, but doing:\n",
    "```python\n",
    "(d_m/d).to(units.dimensionless_unscaled)\n",
    "```\n",
    "returns `1.0` as expected."
   ]
  },
  {
   "cell_type": "code",
   "execution_count": 1,
   "metadata": {},
   "outputs": [],
   "source": [
    "#SETUP CELL (modify at your own peril)\n",
    "from astropy import units #access units by doing units.<unit> (i.e. units.au)\n",
    "from astropy import constants\n",
    "import numpy as np #common math functions (i.e. np.sin(x)) and better arrays (i.e. np.array([1,2,3])\n",
    "import matplotlib.pyplot as plt #plotting functions (i.e. plt.plot(x,y))\n",
    "G = constants.G # gravitational constant\n",
    "M_sun = constants.M_sun # mass of the sun\n",
    "R_sun = constants.R_sun # radius of the sun\n",
    "L_sun = constants.L_sun # luminosity of the sun\n",
    "M_earth = constants.M_earth # mass of the earth\n",
    "R_earth = constants.R_earth # radius of the earth\n",
    "M_jup = constants.M_jup # mass of jupiter\n",
    "R_jup = constants.R_jup # radius of jupiter\n",
    "sigma_sb = constants.sigma_sb # Stefan-Boltzmann constant\n",
    "b_wien = constants.b_wien # Wien's displacement constant\n",
    "c = constants.c # speed of light\n",
    "h = constants.h # Planck constant\n",
    "k_B = constants.k_B # Boltzmann constant\n",
    "m_e = constants.m_e # mass of electron\n",
    "m_p = constants.m_p # mass of proton \n",
    "m_n = constants.m_n # mass of neutron (basically just the mass of a proton but whatever)\n",
    "g0 = constants.g0 # standard gravity, 9.8 m/s^2\n",
    "e = constants.e # absolute value of electron/proton charge"
   ]
  },
  {
   "cell_type": "markdown",
   "metadata": {},
   "source": [
    "## 1 Astrobites [20 points]\n",
    "Read [this astrobites article](https://astrobites.org/2022/09/06/sparkling-stars/) &mdash; what is the main result of this paper and why is it surprising? \n",
    "\n",
    "**Solution: the main result is that they unexpectedly tentatively found very young globular clusters in a far away lensed galaxy! These types of clusters are only visible because of the extreme gravitational lensing + infrared observing power of JWST. If they are truly globular clusters, this is a surprising result as it globular clusters have no active star formation, which would imply that these are some of the first stars in the universe as the globular clusters would have to have formed within roughly 500 million years after the big bang!**"
   ]
  },
  {
   "cell_type": "markdown",
   "metadata": {},
   "source": [
    "## 2 The Cosmic Microwave Background [50 points]\n",
    "\n",
    "The big bang theory predicts that background light was freely emitted as black-body radiation when the universe cooled to around 3,000 K 380,000 years after its beginning. Why did the universe have to wait this long? In the beginning the big bang predicts that the universe would be filled with a very hot and dense soup of subatomic particle plasma, which was opaque to light (optically thick). As the universe expanded it cooled, and eventually reached a tipping point after a few hundred thousand years where it was cool enough that the first atoms (mostly H) could form &mdash; these atoms were basically transparent when compared with the earlier subatomic plasma soup, so all of the light that was bouncing around in the early universe was let out in an instant, to freely travel across cosmic time and space. Because space has expanded a great deal since the big bang this radiation has been redshifted into the microwave portion of the EM spectrum, hence we call it the cosmic *microwave* background (CMB). Because it was emitted at the moment the universe became mostly transparent, this radiation marks the farthest back in time and space we can possibly see. The big bang theory predicted the properties of the cosmic microwave background before it was observed, thus its observation is one of the fundamental underpinnings of this theory and why we think it is the best explanation for how our universe was formed. \n",
    "\n",
    "### a) What color was the early universe? [10 points]\n",
    "\n",
    "Use the fact that the big bang theory predicts that the light should have been emitted as a blackbody when the universe was roughly 3,000 K to calculate the peak wavelength of emission. Suppose you wanted to paint your room the color of the early universe &mdash; what might you choose and why? \n",
    "\n",
    "**Solution: We can use Wien's law to get the peak wavelength, i.e.:**\n",
    "\n",
    "$$T = \\frac{b}{\\lambda_\\rm{peak}} \\rightarrow \\lambda_\\rm{peak} = \\frac{b}{T} \\approx \\boxed{1 \\rm{\\mu m}} $$\n",
    "\n",
    "**This is roughly 1000 nm, or 1 micrometer. That's beyond the range of human vision, but knowing the shape of a blackbody curve tells us that most of the visible power will then be emitted in the orange-red range, so any color in there is a good answer! We can see this in this cool [color plot](https://en.wikipedia.org/wiki/Black-body_radiation#/media/File:PlanckianLocus.png) from the Wiki page for blackbodies:**\n",
    "\n",
    "![colorplot](https://upload.wikimedia.org/wikipedia/commons/b/ba/PlanckianLocus.png)"
   ]
  },
  {
   "cell_type": "code",
   "execution_count": 5,
   "metadata": {},
   "outputs": [
    {
     "data": {
      "text/latex": [
       "$0.96592399 \\; \\mathrm{\\mu m}$"
      ],
      "text/plain": [
       "<Quantity 0.96592399 um>"
      ]
     },
     "execution_count": 5,
     "metadata": {},
     "output_type": "execute_result"
    }
   ],
   "source": [
    "T = 3e3*units.K\n",
    "λp = b_wien/T\n",
    "λp.to(units.micrometer)"
   ]
  },
  {
   "cell_type": "markdown",
   "metadata": {},
   "source": [
    "### b) What color is the universe today? [10 points]\n",
    "Use the spectrum of the CMB produced by the [COBE](https://science.nasa.gov/mission/cobe/) team (shown below, or at [this](http://hyperphysics.phy-astr.gsu.edu/hbase/Astro/imgast/Cobe3k.gif) link) to calculate the peak wavelength of the observed CMB emission today. Is any of the emission from the early universe still visible to the human eye today? \n",
    "\n",
    "![CMBSpectrum](http://hyperphysics.phy-astr.gsu.edu/hbase/Astro/imgast/Cobe3k.gif)\n",
    "\n",
    "**Solution: The peak of the plot is around 1 mm (or 1000 micrometers to compare to our earlier number). This is very red! The blackbody curve drops steeply on the left side, so there is essentially zero power in the range that our eyes could see and thus this is only visible in the microwave portion of the spectrum (or converted to the visual through TV static).**"
   ]
  },
  {
   "cell_type": "code",
   "execution_count": 24,
   "metadata": {},
   "outputs": [
    {
     "data": {
      "text/latex": [
       "$1000 \\; \\mathrm{\\mu m}$"
      ],
      "text/plain": [
       "<Quantity 1000. um>"
      ]
     },
     "execution_count": 24,
     "metadata": {},
     "output_type": "execute_result"
    }
   ],
   "source": [
    "λobs = 1*units.mm\n",
    "λobs.to(units.micrometer)"
   ]
  },
  {
   "cell_type": "markdown",
   "metadata": {},
   "source": [
    "### c) What is the temperature of the universe? [10 points]\n",
    "\n",
    "Using your answer from part b, calculate the temperature of the present-day cosmic background. Since the CMB permeates all of space, this is essentially the minimum temperature of anything embedded in space. \n",
    "\n",
    "**Solution: again we can use Wien's law, but this time we will solve for T:**\n",
    "\n",
    "$$T = \\frac{b}{\\lambda_\\rm{peak}} \\approx \\frac{b}{1 \\rm{mm}} \\approx \\boxed{2.9 \\rm{K}}$$\n",
    "\n",
    "**This is a little higher than the value stated on the plot of 2.74 K, so the true peak wavelength must be at slightly more than 1 mm, but that's hard to see from the plot and this is close enough.**"
   ]
  },
  {
   "cell_type": "code",
   "execution_count": 26,
   "metadata": {},
   "outputs": [
    {
     "data": {
      "text/latex": [
       "$2.897772 \\; \\mathrm{K}$"
      ],
      "text/plain": [
       "<Quantity 2.89777196 K>"
      ]
     },
     "execution_count": 26,
     "metadata": {},
     "output_type": "execute_result"
    }
   ],
   "source": [
    "T_CMB = b_wien/λobs\n",
    "T_CMB.si"
   ]
  },
  {
   "cell_type": "markdown",
   "metadata": {},
   "source": [
    "### d) What is the redshift of the CMB? [10 points]\n",
    "Using your answers from parts a and b, calculate the redshift of the cosmic background. \n",
    "\n",
    "*Hint: remember that redshift is a dimensionless number, and since the CMB looks far back in space/time this should be a large number.*\n",
    "\n",
    "**Solution: You can do this two ways &mdash; either with the ratio of the wavelengths or the ratio of the temperatures (since the temperatures depend on the peak wavelengths). Either way you should get a number around 1,000, which is a very large redshift!**"
   ]
  },
  {
   "cell_type": "markdown",
   "metadata": {},
   "source": [
    "### e) Evidence for a big bang [10 points]\n",
    "\n",
    "Compare your answer in part d to the redshifts of the farthest observable galaxies &mdash; is it safe to say the CMB is the farthest observed point in the universe's history? In your own words, why does this measurement support the big bang theory? \n",
    "\n",
    "Note: We can't use Hubble's law to calculate the age of the universe (Hubble's law is really only valid for z < a few) but more careful treatment reveals that this redshift is consistent with the light originally having been emitted roughly 300-400 thousand years after the big bang. \n",
    "\n",
    "**Solution: the farthest galaxies have z values in the teens, thus the CMB is truly the farthest possible observable in the universe by a longshot. Many possible answers for why it supports the big bang theory, but the most obvious are that this implies the universe was once a hot, dense soup in thermal equilibrium (thus radiating like a blackbody) and thus must have come from a much smaller volume, and that the CMB is observed to be roughly isotropic at a very high redshift, implying it happened everywhere a long time ago.**"
   ]
  },
  {
   "cell_type": "markdown",
   "metadata": {},
   "source": [
    "## 3 Orbiting galaxies and dark matter [30 points]\n",
    "\n",
    "Suppose two galaxies are orbiting each other at a distance of 300,000 light years. Combined, the galaxies have a visible mass of $10^{41}$ kg. \n",
    "\n",
    "### a) Considering visible matter only, what would the orbital period of the galaxies be? [10 points]\n",
    "Provide your answer in years. \n",
    "\n",
    "*Hint: Remember Kepler's third law!*\n",
    "\n",
    "**Solution: Kepler's third law (in its full form) tells us that:**\n",
    "\n",
    "$$\\frac{a^3}{P^2} = \\frac{G}{4\\pi}(M_1+M_2)$$\n",
    "\n",
    "**We know that the semimajor axis $a$ is 150,000 light years (half of the distance between the galaxies) and we know the total mass, so we can solve for P and get:**\n",
    "\n",
    "$$P = \\sqrt{\\frac{4\\pi}{G}\\frac{(150000 \\rm{ly})^3}{10^{41}\\rm{kg}}}\\approx \\boxed{2.3\\times 10^9 \\rm{yr}}$$\n",
    "\n",
    "**This is roughly 2 billion years, which is quite a long time...**"
   ]
  },
  {
   "cell_type": "code",
   "execution_count": 30,
   "metadata": {},
   "outputs": [
    {
     "data": {
      "text/latex": [
       "$2.3244596 \\times 10^{9} \\; \\mathrm{yr}$"
      ],
      "text/plain": [
       "<Quantity 2.32445957e+09 yr>"
      ]
     },
     "execution_count": 30,
     "metadata": {},
     "output_type": "execute_result"
    }
   ],
   "source": [
    "Mvis = 1e41*units.kg\n",
    "a = 150e3*units.lyr\n",
    "PVis = np.sqrt(4*np.pi/G*a**3/Mvis)\n",
    "PVis.to(units.yr)"
   ]
  },
  {
   "cell_type": "markdown",
   "metadata": {},
   "source": [
    "### b) Adding dark matter [10 points]\n",
    "If we include dark matter, the galaxies will have a combined mass of $\\approx 5\\times 10^{41}$ kg. What is the orbital period associated with the total mass? \n",
    "\n",
    "Provide your answer in years.\n",
    "\n",
    "**Solution: we will repeat our same calculation as before, but this time we will use 5 times the original mass:**\n",
    "\n",
    "$$P = \\sqrt{\\frac{4\\pi}{G}\\frac{(150000 \\rm{ly})^3}{5\\times10^{41}\\rm{kg}}}\\approx \\boxed{1\\times 10^9 \\rm{yr}}$$\n",
    "\n",
    "**This is a little less than half the original value!**"
   ]
  },
  {
   "cell_type": "code",
   "execution_count": 31,
   "metadata": {},
   "outputs": [
    {
     "data": {
      "text/latex": [
       "$1.0395299 \\times 10^{9} \\; \\mathrm{yr}$"
      ],
      "text/plain": [
       "<Quantity 1.03952992e+09 yr>"
      ]
     },
     "execution_count": 31,
     "metadata": {},
     "output_type": "execute_result"
    }
   ],
   "source": [
    "Mtot = 5*Mvis\n",
    "Ptot = np.sqrt(4*np.pi/G*a**3/Mtot)\n",
    "Ptot.to(units.yr)"
   ]
  },
  {
   "cell_type": "markdown",
   "metadata": {},
   "source": [
    "### c) Does dark matter accelerate galaxy evolution? [10 points]\n",
    "\n",
    "In each case, calculate how many times the galaxies orbit each other in the lifetime of the universe. Using this calculation, do you think that dark matter is important for the evolution of galaxies? Why or why not? \n",
    "\n",
    "**Solution: The universe is roughly 14 billion years old, so in the visible matter case they will orbit roughly 6 times, while in the visible + DM case they will orbit roughly 14 times. Thus, DM significantly accelerates the dynamical timescales at which things happen for galaxies, and they are certainly quite important to their evolution!**"
   ]
  }
 ],
 "metadata": {
  "kernelspec": {
   "display_name": "Python 3 (ipykernel)",
   "language": "python",
   "name": "python3"
  },
  "language_info": {
   "codemirror_mode": {
    "name": "ipython",
    "version": 3
   },
   "file_extension": ".py",
   "mimetype": "text/x-python",
   "name": "python",
   "nbconvert_exporter": "python",
   "pygments_lexer": "ipython3",
   "version": "3.11.5"
  }
 },
 "nbformat": 4,
 "nbformat_minor": 2
}
